{
 "cells": [
  {
   "cell_type": "markdown",
   "metadata": {},
   "source": [
    "# 5주차\n",
    "## Support Vector Machines\n",
    "\n",
    "support vector machine에 대해서 실습해 보겠습니다."
   ]
  },
  {
   "cell_type": "code",
   "execution_count": null,
   "metadata": {},
   "outputs": [],
   "source": [
    "# socketio module 설치\n",
    "# !pip install python-socketio"
   ]
  },
  {
   "cell_type": "code",
   "execution_count": null,
   "metadata": {},
   "outputs": [],
   "source": [
    "import os\n",
    "import sys\n",
    "import numpy as np\n",
    "\n",
    "\n",
    "# 그래프 그리기\n",
    "from matplotlib import pyplot\n",
    "\n",
    "# # scipy내에 있는 최적화기능이 있는 모듈\n",
    "from scipy import optimize\n",
    "\n",
    "# MATLAB mat 데이터 파일 형식을 loda하는 모듈\n",
    "from scipy.io import loadmat\n",
    "\n",
    "\n",
    "# svm model\n",
    "from sklearn.svm import SVC\n",
    "\n",
    "# 제출을 하기 위한 라이브러리\n",
    "sys.path.append('../src/')\n",
    "from utils import Submit\n",
    "import answer\n",
    "\n",
    "\n",
    "# matplotlib가 노트북에 플롯을 포함하도록 지시\n",
    "%matplotlib inline"
   ]
  },
  {
   "cell_type": "code",
   "execution_count": null,
   "metadata": {},
   "outputs": [],
   "source": [
    "submission = Submit()"
   ]
  },
  {
   "cell_type": "code",
   "execution_count": null,
   "metadata": {},
   "outputs": [],
   "source": [
    "# board 연결이 필요할 경우만 실행\n",
    "submission.connect()"
   ]
  },
  {
   "cell_type": "markdown",
   "metadata": {},
   "source": [
    "## 1 Support Vector Machines\n",
    "\n",
    "먼저 이번주 exercise의 앞부분은 2D 에서의 SVM을 이용한 간단한 실습입니다. 실습을 진행하면서 Gaussian kernel을 사용한 SVM이 어떻게 작동되는지 직관적으로 살펴보세요. 뒷부분은 SVM을 이용한 spam mail 분류를 진행할 예정입니다."
   ]
  },
  {
   "cell_type": "markdown",
   "metadata": {},
   "source": [
    "### 1.1 Example Dataset 1\n",
    "\n",
    "linear boundary로 나뉘어 질 수 있는 data set으로 실습을 시작해보겠습니다. training data에 대한 plot은 이렇게 보여야 합니다:\n",
    "\n",
    "![Dataset 1 training data](Figures/dataset1.png)\n",
    "\n",
    "이 dataset에서 x로 표시된 positive example과 o로 표시된 negative example은 gap으로 분리되어 있습니다. 하지만 중간중간에 (0.1, 4.1)과 같이 outlier가 있으므로 확인해보세요. 이번 exercise에서 이 outlier를 어떻게 처리할지 확인해보겠습니다."
   ]
  },
  {
   "cell_type": "code",
   "execution_count": null,
   "metadata": {},
   "outputs": [],
   "source": [
    "# 데이터 불러오기\n",
    "# X와 y data를 dict의 key 형태로 저장\n",
    "data = loadmat(os.path.join('Data', 'ex6data1.mat'))\n",
    "X, y = data['X'], data['y'][:, 0]\n",
    "\n",
    "# 데이터 plot 그리기\n",
    "answer.plotData(X, y)"
   ]
  },
  {
   "cell_type": "markdown",
   "metadata": {},
   "source": [
    "$C$ parameter를 달리하며 SVM을 진행해 보겠습니다. $C$값은 training example이 잘못 분류되는 것에 페널티를 주는 역할을 합니다. $C$값이 크다면 모든 training example을 정확히 분류할 수 있습니다. $C$는 logistic regression에서 $1/\\lambda$와 같은 역할을 합니다. logistic regression에서 $\\lambda$값이 작으면 training data에 대해 학습이 잘 되었듯 SVM에서 $C$값이 크면 training data에 학습을 잘 시킬 수 있습니다. \n",
    "\n",
    "\n",
    "밑의 그림은 SVM을 미리 저장된 'svmTrain'을 이용해 실행한 결과입니다. 왼쪽 그림은 $C=1$일 때인데, training data에 대해 분류를 못한 부분이 있는걸 알 수 있습니다. 오른쪽 그림은 $C=100$일 때인데, $C$값이 크므로 모든 training data에 대해 100% 분류를 해냈으나 조금 부자연스러운 모습을 보입니다. 적당한 $C$ 값을 설정하는 것이 중요할 것 같습니다.\n",
    "\n",
    "<table style=\"text-align:center\">\n",
    "    <tr>\n",
    "        <th colspan=\"2\" style=\"text-align:center\">SVM Decision boundary for example dataset 1 </th>\n",
    "    </tr>\n",
    "    <tr>\n",
    "        <td style=\"text-align:center\">C=1<img src=\"Figures/svm_c1.png\"/></td>\n",
    "        <td style=\"text-align:center\">C=100<img src=\"Figures/svm_c100.png\"/></td>\n",
    "    </tr>\n",
    "</table>"
   ]
  },
  {
   "cell_type": "code",
   "execution_count": null,
   "metadata": {},
   "outputs": [],
   "source": [
    "# 밑에 있는 C 값을 변화시키면서 나오는 결과를 확인해보세요\n",
    "C = 1\n",
    "\n",
    "model = answer.svmTrain(X, y, C, answer.linearKernel, 1e-3, 20)\n",
    "answer.visualizeBoundaryLinear(X, y, model)"
   ]
  },
  {
   "cell_type": "markdown",
   "metadata": {},
   "source": [
    "<a id=\"section1\"></a>\n",
    "### 1.2 SVM with Gaussian Kernels\n",
    "\n",
    "\n",
    "Gaussian kernel을 이용한 SVM을 통해 non-linear 한 data에 대해 분류를 진행해 보겠습니다.\n",
    "\n",
    "#### 1.2.1 Gaussian Kernel\n",
    "\n",
    "SVM에서의 decision boundary를 찾기 전에 Gaussian kernel을 먼저 구현해야 합니다. Gaussian kernel은 두개의 data의 거리를 통해 계산할 수 있습니다. 또 Gaussian kernel은 similarity metric의 data들이 떨어져 있을 때 얼마나 빨리 0으로 수렴하는지를 결정하는 $\\sigma$를 parameter로 가집니다. 아래의 식을 통해 Gaussian kernel 을 구현해 보세요!\n",
    "\n",
    "$$ K_{\\text{gaussian}} \\left( x^{(i)}, x^{(j)} \\right) = \\exp \\left( - \\frac{\\left\\lvert\\left\\lvert x^{(i)} - x^{(j)}\\right\\lvert\\right\\lvert^2}{2\\sigma^2} \\right) = \\exp \\left( -\\frac{\\sum_{k=1}^n \\left( x_k^{(i)} - x_k^{(j)}\\right)^2}{2\\sigma^2} \\right)$$\n",
    "<a id=\"gaussianKernel\"></a>"
   ]
  },
  {
   "cell_type": "code",
   "execution_count": null,
   "metadata": {},
   "outputs": [],
   "source": [
    "x1 = np.array([1, 2, 1])\n",
    "x2 = np.array([0, 4, -1])\n",
    "sigma = 2"
   ]
  },
  {
   "cell_type": "code",
   "execution_count": null,
   "metadata": {},
   "outputs": [],
   "source": [
    "# 아래에 식을 써보고 결과를 확인해보세요.\n",
    "# 결과가 잘 나왔으면 제출 함수를 적어주세요.\n",
    "# np.exp를 사용하세요.\n",
    "\n"
   ]
  },
  {
   "cell_type": "code",
   "execution_count": null,
   "metadata": {},
   "outputs": [],
   "source": [
    "def gaussianKernel(x1, x2, sigma):\n",
    "    \"\"\"\n",
    "    Parameters\n",
    "    ----------\n",
    "    x1 :  numpy ndarray\n",
    "        (n, ) shape을 가지는 x1 data\n",
    "    \n",
    "    x2 : numpy ndarray\n",
    "        (n, ) shape을 가지는 x2 data\n",
    "    \n",
    "    sigma : float\n",
    "        Gaussian kernel에 포함되는 parameter\n",
    "\n",
    "    Returns\n",
    "    -------\n",
    "    sim : float\n",
    "        계산되어 출력되는 값\n",
    "    Instructions\n",
    "    ------------\n",
    "    parameter 'sigma'를 포함하는 Gaussian kernel을 구현해 보세요\n",
    "    \"\"\"\n",
    "\n",
    "    # ====================== YOUR CODE HERE ======================\n",
    "\n",
    "    sim = None\n",
    "\n",
    "\n",
    "    # =============================================================\n",
    "    return sim"
   ]
  },
  {
   "cell_type": "markdown",
   "metadata": {},
   "source": [
    "앞서 'gaussianKernel'을 잘 구현했다면 다음 예시를 통해 테스트 해보섿요. 값이 0.324652가 나오면 정답입니다"
   ]
  },
  {
   "cell_type": "code",
   "execution_count": null,
   "metadata": {},
   "outputs": [],
   "source": [
    "x1 = np.array([1, 2, 1])\n",
    "x2 = np.array([0, 4, -1])\n",
    "sigma = 2\n",
    "\n",
    "sim = gaussianKernel(x1, x2, sigma)\n",
    "\n",
    "print('Gaussian Kernel between x1 = [1, 2, 1], x2 = [0, 4, -1], sigma = %0.2f:'\n",
    "      '\\n\\t%f\\n(for sigma = 2, this value should be about 0.324652)\\n' % (sigma, sim))"
   ]
  },
  {
   "cell_type": "markdown",
   "metadata": {},
   "source": [
    "답안을 제출해봅시다"
   ]
  },
  {
   "cell_type": "code",
   "execution_count": null,
   "metadata": {},
   "outputs": [],
   "source": [
    "submission.submit(gaussianKernel)"
   ]
  },
  {
   "cell_type": "markdown",
   "metadata": {},
   "source": [
    "### 1.2.2 Example Dataset 2\n",
    "\n",
    "다음 파트는 보기와 같은 data set에 대해 진행해 보겠습니다.\n",
    "![Dataset 2](Figures/dataset2.png)"
   ]
  },
  {
   "cell_type": "code",
   "execution_count": null,
   "metadata": {},
   "outputs": [],
   "source": [
    "# 데이터 불러오기\n",
    "# X와 y data를 dict의 key 형태로 저장\n",
    "data = loadmat(os.path.join('Data', 'ex6data2.mat'))\n",
    "X, y = data['X'], data['y'][:, 0]\n",
    "\n",
    "# 그래프 그리기\n",
    "answer.plotData(X, y)"
   ]
  },
  {
   "cell_type": "markdown",
   "metadata": {},
   "source": [
    "그림을 보면 linear decision boundary로는 이 data를 잘 분리할 수 없습니다. 하지만 Gaussian kernel을 이용하면 이런 data set도 잘 분리할 수 있습니다. \n",
    "\n",
    "Gaussian kernel을 잘 적용하여 SVM을 실행한다면 밑에 나와있는 그림처럼 decision boundary가 이쁘게 나올 것입니다. 거의 모든 data에 대해 잘 분류했네요\n",
    "\n",
    "![Dataset 2 decision boundary](Figures/svm_dataset2.png)"
   ]
  },
  {
   "cell_type": "code",
   "execution_count": null,
   "metadata": {},
   "outputs": [],
   "source": [
    "# SVM Parameters\n",
    "C = 1\n",
    "sigma = 0.1\n",
    "\n",
    "model= answer.svmTrain(X, y, C, gaussianKernel, args=(sigma,))\n",
    "answer.visualizeBoundary(X, y, model)"
   ]
  },
  {
   "cell_type": "markdown",
   "metadata": {},
   "source": [
    "<a id=\"section2\"></a>\n",
    "#### 1.2.3 Example Dataset 3\n",
    "\n",
    "이번에는 Gaussian kernel을 이용해 좀 더 실용적인 skill을 배워보겠습니다. 세번째 데이터를 불러오고 모양을 확인해 보겠습니다.\n",
    "\n",
    "![Dataset 3](Figures/dataset3.png)\n",
    "\n",
    "이 데이터를 이용해 SVM을 진행하겠습니다. 변수는 'X', 'y', 'Xval', 'yval'이 주어집니다."
   ]
  },
  {
   "cell_type": "code",
   "execution_count": null,
   "metadata": {},
   "outputs": [],
   "source": [
    "# 데이터 불러오기\n",
    "# X와 y data를 dict의 key 형태로 저장\n",
    "data = loadmat(os.path.join('Data', 'ex6data3.mat'))\n",
    "X, y, Xval, yval = data['X'], data['y'][:, 0], data['Xval'], data['yval'][:, 0]\n",
    "\n",
    "# 그래프 그리기\n",
    "answer.plotData(X, y)"
   ]
  },
  {
   "cell_type": "markdown",
   "metadata": {},
   "source": [
    "\n",
    "이번에 실습할 것은 validation set을 이용해 최적의 $C$ 값과 $\\sigma$ 값을 찾아내는 것입니다. $C$와 $\\sigma$에 대해  (0.01, 0.03, 0.1, 0.3, 1, 3, 10, 30)를 이용해 실습을 진행하겠습니다. 최적의 $C$ 와 $\\sigma$ 쌍을 찾아야하므로 총 8 * 8 = 64 번의 경우의 수를 따져봐야 합니다. 최적의 parameter를 찾는다면 그림과 같은 decision boundary가 나올 것입니다.\n",
    "\n",
    "모델은 `sklearn.svm.SVC`를 사용할 것입니다. `SVC`에서 \n",
    "\n",
    "![](Figures/svm_dataset3_best.png)"
   ]
  },
  {
   "cell_type": "code",
   "execution_count": null,
   "metadata": {},
   "outputs": [],
   "source": [
    "def dataset3Params(X, y, Xval, yval):\n",
    "    \"\"\"\n",
    "    찾아낸 C 값과 sigma 값을 return 하겠습니다.\n",
    "        \n",
    "    Parameters\n",
    "    ----------\n",
    "    X : array_like\n",
    "        (m x n) matrix입니다. m개의 datapoint와 n개의 feature를 가지는 training set입니다.\n",
    "    \n",
    "    y : array_like\n",
    "        (m, ) vector입니다. training data에 대한 label입니다.\n",
    "    \n",
    "    Xval : array_like\n",
    "        (mv x n) matrix입니다. mv개의 datapoint와 n개의 feature를 가지는 validation set입니다.\n",
    "    \n",
    "    yval : array_like\n",
    "        (mv, ) vector입니다. validation data에 대한 label입니다.\n",
    "    \n",
    "    Returns\n",
    "    -------\n",
    "    C, sigma : float, float\n",
    "        최적의 C값과 sigma 값을 return 합니다.\n",
    "    \n",
    "    Instructions\n",
    "    ------------\n",
    "    validation set을 이용해 최적의 C값과 sigma 값을 찾아보세요. \n",
    "    예시와 같이 'svmPredict' 함수를 이용해 validation set에 대해 label을 예측하겠습니다.\n",
    "    model은 svmTrain을 이용하면 됩니다. \n",
    "    \n",
    "    Example)\n",
    "    \n",
    "        model= utils.svmTrain(X, y, C, gaussianKernel, args=(sigma,))\n",
    "        predictions = svmPredict(model, Xval)\n",
    "\n",
    "    will return the predictions on the cross validation set.\n",
    "    \n",
    "    \"\"\"\n",
    "\n",
    "    # ====================== YOUR CODE HERE ======================\n",
    "    \n",
    "    C_list = [0.01, 0.03, 0.1, 0.3, 1, 3, 10, 30]\n",
    "    sigma_list = [0.01, 0.03, 0.1, 0.3, 1, 3, 10, 30]\n",
    "    \n",
    "    C = None\n",
    "    sigma = None\n",
    "    acc = 0\n",
    "    \n",
    "    for i in C_list:\n",
    "        for j in sigma_list:\n",
    "            gamma = np.power(j, -2.) # SVC에서 gamma = sigma^2\n",
    "            model= SVC(C=i, gamma=gamma, kernel='rbf')\n",
    "            model.fit(X, y)\n",
    "            # C, sigma 업데이트하기\n",
    "\n",
    "    # ============================================================\n",
    "    return C, sigma"
   ]
  },
  {
   "cell_type": "markdown",
   "metadata": {},
   "source": [
    "다음 셀은 앞서 정의한 함수를 이용해 C, sigma 값을 찾고 그를 통해 모델을 학습시키는 과정입니다  \n",
    "시간이 조금 걸릴 수 있습니다!!"
   ]
  },
  {
   "cell_type": "code",
   "execution_count": null,
   "metadata": {},
   "outputs": [],
   "source": [
    "# Try different SVM Parameters here\n",
    "C, sigma = dataset3Params(X, y, Xval, yval)\n",
    "\n",
    "# Train the SVM\n",
    "# model = utils.svmTrain(X, y, C, lambda x1, x2: gaussianKernel(x1, x2, sigma))\n",
    "model = answer.svmTrain(X, y, C, gaussianKernel, args=(sigma,))\n",
    "answer.visualizeBoundary(X, y, model)\n",
    "print(f'C : {C}')\n",
    "print(f'sigma : {sigma}')"
   ]
  },
  {
   "cell_type": "markdown",
   "metadata": {},
   "source": [
    "답안을 제출해 보세요"
   ]
  },
  {
   "cell_type": "code",
   "execution_count": null,
   "metadata": {},
   "outputs": [],
   "source": [
    "def optimalResult():\n",
    "    return C, sigma\n",
    "\n",
    "submission.submit(optimalResult)"
   ]
  }
 ],
 "metadata": {
  "kernelspec": {
   "display_name": "Python 3",
   "language": "python",
   "name": "python3"
  },
  "language_info": {
   "codemirror_mode": {
    "name": "ipython",
    "version": 3
   },
   "file_extension": ".py",
   "mimetype": "text/x-python",
   "name": "python",
   "nbconvert_exporter": "python",
   "pygments_lexer": "ipython3",
   "version": "3.7.3"
  }
 },
 "nbformat": 4,
 "nbformat_minor": 2
}
